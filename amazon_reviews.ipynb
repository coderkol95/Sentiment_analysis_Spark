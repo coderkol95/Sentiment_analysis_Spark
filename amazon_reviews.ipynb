{
  "nbformat": 4,
  "nbformat_minor": 0,
  "metadata": {
    "colab": {
      "name": "amazon_reviews.ipynb",
      "provenance": [],
      "collapsed_sections": []
    },
    "kernelspec": {
      "display_name": "Python 3",
      "name": "python3"
    },
    "language_info": {
      "name": "python"
    }
  },
  "cells": [
    {
      "cell_type": "markdown",
      "metadata": {
        "id": "-koqconT5E3o"
      },
      "source": [
        "# Initialization"
      ]
    },
    {
      "cell_type": "code",
      "metadata": {
        "id": "8uqkYDbB10n1"
      },
      "source": [
        "\"\"\"\n",
        "Tasks:\n",
        "\n",
        "1. Install dependencies\n",
        "2. Import dependencies for Spark and SQL\n",
        "3. Import dependencies for text preprocessing and machine learning\n",
        "4. Setup environment\n",
        "5. Create Spark and SparkSQL context\n",
        "\n",
        "\"\"\"\n",
        "\n",
        "#1\n",
        "!apt-get update > /dev/null\n",
        "!apt-get install openjdk-8-jdk-headless -qq > /dev/null\n",
        "!wget -q http://apache.osuosl.org/spark/spark-3.1.2/spark-3.1.2-bin-hadoop3.2.tgz\n",
        "!tar xf spark-3.1.2-bin-hadoop3.2.tgz\n",
        "!pip install -q findspark > /dev/null\n",
        "!pip install pyspark > /dev/null\n",
        "\n",
        "#2\n",
        "import os\n",
        "import findspark\n",
        "from pyspark.sql import SparkSession\n",
        "from pyspark.sql import SQLContext\n",
        "\n",
        "#3\n",
        "from pyspark.sql.functions import col, regexp_replace, concat\n",
        "from pyspark.ml.feature import CountVectorizer, RegexTokenizer,StopWordsRemover\n",
        "from pyspark.ml.classification import LogisticRegression, NaiveBayes\n",
        "from pyspark.ml.evaluation import BinaryClassificationEvaluator,MulticlassClassificationEvaluator\n",
        "\n",
        "#4\n",
        "os.environ[\"JAVA_HOME\"] = \"/usr/lib/jvm/java-8-openjdk-amd64\"\n",
        "os.environ[\"SPARK_HOME\"] = \"/content/spark-3.1.2-bin-hadoop3.2\"\n",
        "findspark.init()\n",
        "\n",
        "#5\n",
        "spark = SparkSession.builder.master(\"local[*]\").config('spark.ui.port', '4050').getOrCreate()\n",
        "sc = spark.sparkContext\n",
        "sqlContext = SQLContext(sc)"
      ],
      "execution_count": null,
      "outputs": []
    },
    {
      "cell_type": "markdown",
      "metadata": {
        "id": "DFW0ba1q5wfr"
      },
      "source": [
        "# Data"
      ]
    },
    {
      "cell_type": "code",
      "metadata": {
        "colab": {
          "base_uri": "https://localhost:8080/"
        },
        "id": "NVMth0J67XCU",
        "outputId": "7fd2c231-d308-450a-8999-039f51cb0d75"
      },
      "source": [
        "!gdown https://drive.google.com/uc?id=1DleRy50zMFGC-tDF5UAagu5laZETSA_v\n",
        "!gdown https://drive.google.com/uc?id=1qjfI2dcXKQ_KWjoXnjbwsU3r0MXqEx2y"
      ],
      "execution_count": null,
      "outputs": [
        {
          "output_type": "stream",
          "text": [
            "Downloading...\n",
            "From: https://drive.google.com/uc?id=1DleRy50zMFGC-tDF5UAagu5laZETSA_v\n",
            "To: /content/train.csv\n",
            "1.59GB [00:12, 153MB/s]\n",
            "Downloading...\n",
            "From: https://drive.google.com/uc?id=1qjfI2dcXKQ_KWjoXnjbwsU3r0MXqEx2y\n",
            "To: /content/test.csv\n",
            "176MB [00:03, 54.5MB/s]\n"
          ],
          "name": "stdout"
        }
      ]
    },
    {
      "cell_type": "code",
      "metadata": {
        "id": "pmG4VCPOAXnn"
      },
      "source": [
        "trainset = spark.read.csv(f'/content/train.csv',header = False, inferSchema = False)\n",
        "testset = spark.read.csv(f'/content/test.csv', header=False, inferSchema=False)"
      ],
      "execution_count": null,
      "outputs": []
    },
    {
      "cell_type": "code",
      "metadata": {
        "colab": {
          "base_uri": "https://localhost:8080/"
        },
        "id": "yOFREluJBKuh",
        "outputId": "f3be650c-10a1-4a64-e982-d1f0b2e8b81c"
      },
      "source": [
        "type(trainset)"
      ],
      "execution_count": null,
      "outputs": [
        {
          "output_type": "execute_result",
          "data": {
            "text/plain": [
              "pyspark.sql.dataframe.DataFrame"
            ]
          },
          "metadata": {
            "tags": []
          },
          "execution_count": 4
        }
      ]
    },
    {
      "cell_type": "code",
      "metadata": {
        "id": "xFL5gpeXBhG2"
      },
      "source": [
        "trainset = trainset.selectExpr(\"_c0 as Polarity\", \"_c1 as Review_title\", \"_c2 as Review_text\")\n",
        "testset = testset.selectExpr(\"_c0 as Polarity\", \"_c1 as Review_title\", \"_c2 as Review_text\")"
      ],
      "execution_count": null,
      "outputs": []
    },
    {
      "cell_type": "code",
      "metadata": {
        "colab": {
          "base_uri": "https://localhost:8080/"
        },
        "id": "GRxzqqfiDdI2",
        "outputId": "1cc046c0-1c4c-49f6-9661-3478828fc9a2"
      },
      "source": [
        "trainset.show(n=5)"
      ],
      "execution_count": null,
      "outputs": [
        {
          "output_type": "stream",
          "text": [
            "+--------+--------------------+--------------------+\n",
            "|Polarity|        Review_title|         Review_text|\n",
            "+--------+--------------------+--------------------+\n",
            "|       2|Stuning even for ...|This sound track ...|\n",
            "|       2|The best soundtra...|I'm reading a lot...|\n",
            "|       2|            Amazing!|\"This soundtrack ...|\n",
            "|       2|Excellent Soundtrack|I truly like this...|\n",
            "|       2|Remember, Pull Yo...|If you've played ...|\n",
            "+--------+--------------------+--------------------+\n",
            "only showing top 5 rows\n",
            "\n"
          ],
          "name": "stdout"
        }
      ]
    },
    {
      "cell_type": "code",
      "metadata": {
        "id": "SecV07tKAqly"
      },
      "source": [
        "train_before=trainset.count()"
      ],
      "execution_count": null,
      "outputs": []
    },
    {
      "cell_type": "code",
      "metadata": {
        "id": "OwrlHiZuECrR"
      },
      "source": [
        "test_before = testset.count()"
      ],
      "execution_count": null,
      "outputs": []
    },
    {
      "cell_type": "markdown",
      "metadata": {
        "id": "TAe2efiY6FjW"
      },
      "source": [
        "# Data exploration and preprocessing"
      ]
    },
    {
      "cell_type": "code",
      "metadata": {
        "colab": {
          "base_uri": "https://localhost:8080/"
        },
        "id": "990fJ5DqDy3K",
        "outputId": "40c4b38f-d930-4754-9b9f-7feb9a4343a9"
      },
      "source": [
        "trainset = trainset.dropna()\n",
        "train_after = trainset.count()\n",
        "print(f\"No. of rows dropped in the training set: {train_before-train_after}\")"
      ],
      "execution_count": null,
      "outputs": [
        {
          "output_type": "stream",
          "text": [
            "No. of rows dropped in the training set: 61\n"
          ],
          "name": "stdout"
        }
      ]
    },
    {
      "cell_type": "code",
      "metadata": {
        "colab": {
          "base_uri": "https://localhost:8080/"
        },
        "id": "IIkcRXIQD4Vh",
        "outputId": "b70359f7-fb4a-4973-8b6d-c2c4de4ff2cc"
      },
      "source": [
        "testset = testset.dropna()\n",
        "test_after = testset.count()\n",
        "print(f\"No. of rows dropped in the testing set: {test_before-test_after}\")"
      ],
      "execution_count": null,
      "outputs": [
        {
          "output_type": "stream",
          "text": [
            "No. of rows dropped in the testing set: 5\n"
          ],
          "name": "stdout"
        }
      ]
    },
    {
      "cell_type": "code",
      "metadata": {
        "colab": {
          "base_uri": "https://localhost:8080/"
        },
        "id": "a22WI7WYEh6h",
        "outputId": "0d329eea-5066-45fc-becd-e45bba5ced0c"
      },
      "source": [
        "trainset.groupBy('Polarity').count().show()"
      ],
      "execution_count": null,
      "outputs": [
        {
          "output_type": "stream",
          "text": [
            "+--------+-------+\n",
            "|Polarity|  count|\n",
            "+--------+-------+\n",
            "|       1|1799969|\n",
            "|       2|1799970|\n",
            "+--------+-------+\n",
            "\n"
          ],
          "name": "stdout"
        }
      ]
    },
    {
      "cell_type": "code",
      "metadata": {
        "colab": {
          "base_uri": "https://localhost:8080/"
        },
        "id": "hvssR8AVMHpo",
        "outputId": "6635ea00-90d8-45c5-ee07-bd371021137b"
      },
      "source": [
        "traindata = trainset.select('Polarity',concat('Review_title','Review_text').alias('Review'))\n",
        "traindata.show(n=5)"
      ],
      "execution_count": null,
      "outputs": [
        {
          "output_type": "stream",
          "text": [
            "+--------+--------------------+\n",
            "|Polarity|              Review|\n",
            "+--------+--------------------+\n",
            "|       2|Stuning even for ...|\n",
            "|       2|The best soundtra...|\n",
            "|       2|Amazing!\"This sou...|\n",
            "|       2|Excellent Soundtr...|\n",
            "|       2|Remember, Pull Yo...|\n",
            "+--------+--------------------+\n",
            "only showing top 5 rows\n",
            "\n"
          ],
          "name": "stdout"
        }
      ]
    },
    {
      "cell_type": "code",
      "metadata": {
        "colab": {
          "base_uri": "https://localhost:8080/"
        },
        "id": "mUQJe0ffMrb4",
        "outputId": "882783ff-3aae-4579-be7f-d7bd51621874"
      },
      "source": [
        "testdata = testset.select('Polarity',concat('Review_title','Review_text').alias('Review'))\n",
        "testdata.show(n=5)"
      ],
      "execution_count": null,
      "outputs": [
        {
          "output_type": "stream",
          "text": [
            "+--------+--------------------+\n",
            "|Polarity|              Review|\n",
            "+--------+--------------------+\n",
            "|       2|Great CD\"My lovel...|\n",
            "|       2|One of the best g...|\n",
            "|       1|Batteries died wi...|\n",
            "|       2|works fine, but M...|\n",
            "|       2|Great for the non...|\n",
            "+--------+--------------------+\n",
            "only showing top 5 rows\n",
            "\n"
          ],
          "name": "stdout"
        }
      ]
    },
    {
      "cell_type": "code",
      "metadata": {
        "id": "XuWqRtdYMz8Q"
      },
      "source": [
        "traindata = traindata.withColumn(\"Review\",regexp_replace(col('Review'), '\\d+', ''))\n",
        "testdata = testdata.withColumn(\"Review\",regexp_replace(col('Review'), '\\d+', ''))"
      ],
      "execution_count": null,
      "outputs": []
    },
    {
      "cell_type": "code",
      "metadata": {
        "colab": {
          "base_uri": "https://localhost:8080/"
        },
        "id": "HyvkCx4tM_PA",
        "outputId": "49ef76b6-9321-4ce4-a51b-b7d259b5f254"
      },
      "source": [
        "traindata.show(n=5)"
      ],
      "execution_count": null,
      "outputs": [
        {
          "output_type": "stream",
          "text": [
            "+--------+--------------------+\n",
            "|Polarity|              Review|\n",
            "+--------+--------------------+\n",
            "|       2|Stuning even for ...|\n",
            "|       2|The best soundtra...|\n",
            "|       2|Amazing!\"This sou...|\n",
            "|       2|Excellent Soundtr...|\n",
            "|       2|Remember, Pull Yo...|\n",
            "+--------+--------------------+\n",
            "only showing top 5 rows\n",
            "\n"
          ],
          "name": "stdout"
        }
      ]
    },
    {
      "cell_type": "code",
      "metadata": {
        "colab": {
          "base_uri": "https://localhost:8080/"
        },
        "id": "DD8kUJYDNfYo",
        "outputId": "f2f496e3-0f91-4d8d-e5d9-ce2a960d42af"
      },
      "source": [
        "regex_tokenizer = RegexTokenizer(inputCol=\"Review\", outputCol=\"Review_words\", pattern=\"\\\\W\")\n",
        "trainset = regex_tokenizer.transform(traindata)\n",
        "testset = regex_tokenizer.transform(testdata)\n",
        "trainset.show(5)"
      ],
      "execution_count": null,
      "outputs": [
        {
          "output_type": "stream",
          "text": [
            "+--------+--------------------+--------------------+\n",
            "|Polarity|              Review|        Review_words|\n",
            "+--------+--------------------+--------------------+\n",
            "|       2|Stuning even for ...|[stuning, even, f...|\n",
            "|       2|The best soundtra...|[the, best, sound...|\n",
            "|       2|Amazing!\"This sou...|[amazing, this, s...|\n",
            "|       2|Excellent Soundtr...|[excellent, sound...|\n",
            "|       2|Remember, Pull Yo...|[remember, pull, ...|\n",
            "+--------+--------------------+--------------------+\n",
            "only showing top 5 rows\n",
            "\n"
          ],
          "name": "stdout"
        }
      ]
    },
    {
      "cell_type": "code",
      "metadata": {
        "id": "p0AkylurN_9v"
      },
      "source": [
        "remover = StopWordsRemover(inputCol=\"Review_words\", outputCol=\"Review_filtered\")\n",
        "trainset = remover.transform(trainset)\n",
        "testset = remover.transform(testset)"
      ],
      "execution_count": null,
      "outputs": []
    },
    {
      "cell_type": "code",
      "metadata": {
        "colab": {
          "base_uri": "https://localhost:8080/"
        },
        "id": "pG-t0VlZQSgY",
        "outputId": "6199ef77-b674-46f7-9c5e-9bde56f6e7f0"
      },
      "source": [
        "trainset.show(n=5)"
      ],
      "execution_count": null,
      "outputs": [
        {
          "output_type": "stream",
          "text": [
            "+--------+--------------------+--------------------+--------------------+\n",
            "|Polarity|              Review|        Review_words|     Review_filtered|\n",
            "+--------+--------------------+--------------------+--------------------+\n",
            "|       2|Stuning even for ...|[stuning, even, f...|[stuning, even, n...|\n",
            "|       2|The best soundtra...|[the, best, sound...|[best, soundtrack...|\n",
            "|       2|Amazing!\"This sou...|[amazing, this, s...|[amazing, soundtr...|\n",
            "|       2|Excellent Soundtr...|[excellent, sound...|[excellent, sound...|\n",
            "|       2|Remember, Pull Yo...|[remember, pull, ...|[remember, pull, ...|\n",
            "+--------+--------------------+--------------------+--------------------+\n",
            "only showing top 5 rows\n",
            "\n"
          ],
          "name": "stdout"
        }
      ]
    },
    {
      "cell_type": "code",
      "metadata": {
        "colab": {
          "base_uri": "https://localhost:8080/"
        },
        "id": "0pcO3tepRNVO",
        "outputId": "1d93c100-7295-42ea-9534-366f17a99e5f"
      },
      "source": [
        "cv = CountVectorizer(inputCol=\"Review_filtered\", outputCol=\"features\")\n",
        "model = cv.fit(trainset)\n",
        "trainset = model.transform(trainset)\n",
        "trainset = trainset.withColumn(\"label\",col(\"Polarity\").cast(\"Integer\")-1)\n",
        "trainset.show(5)"
      ],
      "execution_count": null,
      "outputs": [
        {
          "output_type": "stream",
          "text": [
            "+--------+--------------------+--------------------+--------------------+--------------------+-----+\n",
            "|Polarity|              Review|        Review_words|     Review_filtered|            features|label|\n",
            "+--------+--------------------+--------------------+--------------------+--------------------+-----+\n",
            "|       2|Stuning even for ...|[stuning, even, f...|[stuning, even, n...|(262144,[10,13,18...|    1|\n",
            "|       2|The best soundtra...|[the, best, sound...|[best, soundtrack...|(262144,[1,12,15,...|    1|\n",
            "|       2|Amazing!\"This sou...|[amazing, this, s...|[amazing, soundtr...|(262144,[4,7,29,4...|    1|\n",
            "|       2|Excellent Soundtr...|[excellent, sound...|[excellent, sound...|(262144,[1,4,7,18...|    1|\n",
            "|       2|Remember, Pull Yo...|[remember, pull, ...|[remember, pull, ...|(262144,[3,7,18,2...|    1|\n",
            "+--------+--------------------+--------------------+--------------------+--------------------+-----+\n",
            "only showing top 5 rows\n",
            "\n"
          ],
          "name": "stdout"
        }
      ]
    },
    {
      "cell_type": "code",
      "metadata": {
        "colab": {
          "base_uri": "https://localhost:8080/"
        },
        "id": "BEniXI2pXjM1",
        "outputId": "a17e409f-c886-4dd0-efb5-70a22107ce48"
      },
      "source": [
        "testset= model.transform(testset)\n",
        "testset = testset.withColumn(\"label\",col(\"Polarity\").cast(\"Integer\")-1)\n",
        "testset.show(5)"
      ],
      "execution_count": null,
      "outputs": [
        {
          "output_type": "stream",
          "text": [
            "+--------+--------------------+--------------------+--------------------+--------------------+-----+\n",
            "|Polarity|              Review|        Review_words|     Review_filtered|            features|label|\n",
            "+--------+--------------------+--------------------+--------------------+--------------------+-----+\n",
            "|       2|Great CD\"My lovel...|[great, cd, my, l...|[great, cd, lovel...|(262144,[0,1,2,3,...|    1|\n",
            "|       2|One of the best g...|[one, of, the, be...|[one, best, game,...|(262144,[1,2,4,9,...|    1|\n",
            "|       1|Batteries died wi...|[batteries, died,...|[batteries, died,...|(262144,[6,10,20,...|    0|\n",
            "|       2|works fine, but M...|[works, fine, but...|[works, fine, mah...|(262144,[20,77,18...|    1|\n",
            "|       2|Great for the non...|[great, for, the,...|[great, non, audi...|(262144,[2,10,16,...|    1|\n",
            "+--------+--------------------+--------------------+--------------------+--------------------+-----+\n",
            "only showing top 5 rows\n",
            "\n"
          ],
          "name": "stdout"
        }
      ]
    },
    {
      "cell_type": "markdown",
      "metadata": {
        "id": "4jgfbsmCd1FF"
      },
      "source": [
        "# Machine learning"
      ]
    },
    {
      "cell_type": "code",
      "metadata": {
        "id": "1RKY9isCXp9n"
      },
      "source": [
        "nb = NaiveBayes(labelCol=\"label\", featuresCol=\"features\")\n",
        "nbModel = nb.fit(trainset)"
      ],
      "execution_count": null,
      "outputs": []
    },
    {
      "cell_type": "code",
      "metadata": {
        "colab": {
          "base_uri": "https://localhost:8080/"
        },
        "id": "-juglgpVffAS",
        "outputId": "dfe998d1-c48d-47f9-d98f-664d4a88d883"
      },
      "source": [
        "nb_predictions = nbModel.transform(testset)\n",
        "nbEval = BinaryClassificationEvaluator()\n",
        "print('Test Area Under ROC', nbEval.evaluate(nb_predictions))\n",
        "evaluator = MulticlassClassificationEvaluator(labelCol=\"label\", predictionCol=\"prediction\", metricName=\"accuracy\")\n",
        "nb_accuracy = evaluator.evaluate(nb_predictions)\n",
        "print(\"Accuracy of NaiveBayes is = %g\"% (nb_accuracy))"
      ],
      "execution_count": null,
      "outputs": [
        {
          "output_type": "stream",
          "text": [
            "Test Area Under ROC 0.5415983999037577\n",
            "Accuracy of NaiveBayes is = 0.846321\n"
          ],
          "name": "stdout"
        }
      ]
    },
    {
      "cell_type": "code",
      "metadata": {
        "id": "8eHcSrba4HMA"
      },
      "source": [
        "lr = LogisticRegression(featuresCol = 'features', labelCol = 'label', maxIter=50)\n",
        "lrModel = lr.fit(trainset)"
      ],
      "execution_count": null,
      "outputs": []
    },
    {
      "cell_type": "code",
      "metadata": {
        "colab": {
          "background_save": true,
          "base_uri": "https://localhost:8080/"
        },
        "id": "g7FBsIMe414J",
        "outputId": "aa84bbea-e615-442a-e1da-22a8d4cf3556"
      },
      "source": [
        "lrPreds = lrModel.transform(trainset)\n",
        "lrEval = BinaryClassificationEvaluator()\n",
        "print('Test Area Under ROC', lrEval.evaluate(lrPreds))\n",
        "\n",
        "evaluator = MulticlassClassificationEvaluator(labelCol=\"label\", predictionCol=\"prediction\", metricName=\"accuracy\")\n",
        "lr_accuracy = evaluator.evaluate(lrPreds)\n",
        "print(\"Accuracy of Logistic Regression is = %g\"% (lr_accuracy))"
      ],
      "execution_count": null,
      "outputs": [
        {
          "output_type": "stream",
          "text": [
            "Test Area Under ROC 0.9727471417669786\n",
            "Accuracy of Logistic Regression is = 0.916696\n"
          ],
          "name": "stdout"
        }
      ]
    }
  ]
}